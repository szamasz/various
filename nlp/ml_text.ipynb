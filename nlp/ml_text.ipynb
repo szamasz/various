{
 "cells": [
  {
   "cell_type": "code",
   "execution_count": 26,
   "metadata": {},
   "outputs": [],
   "source": [
    "import os\n",
    "import pandas as pd\n",
    "import matplotlib.pyplot as plt\n",
    "import seaborn as sns\n",
    "import numpy as np\n",
    "import nltk\n",
    "from nltk.corpus import stopwords\n",
    "from string import punctuation\n",
    "from nltk.stem import LancasterStemmer\n",
    "from nltk.stem.wordnet import WordNetLemmatizer\n",
    "from nltk import FreqDist\n",
    "import re\n",
    "import warnings\n",
    "warnings.filterwarnings('ignore')"
   ]
  },
  {
   "cell_type": "markdown",
   "metadata": {},
   "source": [
    "Source of data: https://www.kaggle.com/code/poojag718/sentiment-analysis-machine-learning-approach/input"
   ]
  },
  {
   "cell_type": "code",
   "execution_count": 2,
   "metadata": {},
   "outputs": [
    {
     "data": {
      "text/html": [
       "<div>\n",
       "<style scoped>\n",
       "    .dataframe tbody tr th:only-of-type {\n",
       "        vertical-align: middle;\n",
       "    }\n",
       "\n",
       "    .dataframe tbody tr th {\n",
       "        vertical-align: top;\n",
       "    }\n",
       "\n",
       "    .dataframe thead th {\n",
       "        text-align: right;\n",
       "    }\n",
       "</style>\n",
       "<table border=\"1\" class=\"dataframe\">\n",
       "  <thead>\n",
       "    <tr style=\"text-align: right;\">\n",
       "      <th></th>\n",
       "      <th>Sentiment</th>\n",
       "      <th>id</th>\n",
       "      <th>date</th>\n",
       "      <th>query</th>\n",
       "      <th>user</th>\n",
       "      <th>text</th>\n",
       "    </tr>\n",
       "  </thead>\n",
       "  <tbody>\n",
       "    <tr>\n",
       "      <th>0</th>\n",
       "      <td>0</td>\n",
       "      <td>1467810672</td>\n",
       "      <td>Mon Apr 06 22:19:49 PDT 2009</td>\n",
       "      <td>NO_QUERY</td>\n",
       "      <td>scotthamilton</td>\n",
       "      <td>is upset that he can't update his Facebook by ...</td>\n",
       "    </tr>\n",
       "    <tr>\n",
       "      <th>1</th>\n",
       "      <td>0</td>\n",
       "      <td>1467810917</td>\n",
       "      <td>Mon Apr 06 22:19:53 PDT 2009</td>\n",
       "      <td>NO_QUERY</td>\n",
       "      <td>mattycus</td>\n",
       "      <td>@Kenichan I dived many times for the ball. Man...</td>\n",
       "    </tr>\n",
       "    <tr>\n",
       "      <th>2</th>\n",
       "      <td>0</td>\n",
       "      <td>1467811184</td>\n",
       "      <td>Mon Apr 06 22:19:57 PDT 2009</td>\n",
       "      <td>NO_QUERY</td>\n",
       "      <td>ElleCTF</td>\n",
       "      <td>my whole body feels itchy and like its on fire</td>\n",
       "    </tr>\n",
       "    <tr>\n",
       "      <th>3</th>\n",
       "      <td>0</td>\n",
       "      <td>1467811193</td>\n",
       "      <td>Mon Apr 06 22:19:57 PDT 2009</td>\n",
       "      <td>NO_QUERY</td>\n",
       "      <td>Karoli</td>\n",
       "      <td>@nationwideclass no, it's not behaving at all....</td>\n",
       "    </tr>\n",
       "    <tr>\n",
       "      <th>4</th>\n",
       "      <td>0</td>\n",
       "      <td>1467811372</td>\n",
       "      <td>Mon Apr 06 22:20:00 PDT 2009</td>\n",
       "      <td>NO_QUERY</td>\n",
       "      <td>joy_wolf</td>\n",
       "      <td>@Kwesidei not the whole crew</td>\n",
       "    </tr>\n",
       "  </tbody>\n",
       "</table>\n",
       "</div>"
      ],
      "text/plain": [
       "   Sentiment          id                          date     query  \\\n",
       "0          0  1467810672  Mon Apr 06 22:19:49 PDT 2009  NO_QUERY   \n",
       "1          0  1467810917  Mon Apr 06 22:19:53 PDT 2009  NO_QUERY   \n",
       "2          0  1467811184  Mon Apr 06 22:19:57 PDT 2009  NO_QUERY   \n",
       "3          0  1467811193  Mon Apr 06 22:19:57 PDT 2009  NO_QUERY   \n",
       "4          0  1467811372  Mon Apr 06 22:20:00 PDT 2009  NO_QUERY   \n",
       "\n",
       "            user                                               text  \n",
       "0  scotthamilton  is upset that he can't update his Facebook by ...  \n",
       "1       mattycus  @Kenichan I dived many times for the ball. Man...  \n",
       "2        ElleCTF    my whole body feels itchy and like its on fire   \n",
       "3         Karoli  @nationwideclass no, it's not behaving at all....  \n",
       "4       joy_wolf                      @Kwesidei not the whole crew   "
      ]
     },
     "execution_count": 2,
     "metadata": {},
     "output_type": "execute_result"
    }
   ],
   "source": [
    "df = pd.read_csv('data/training.1600000.processed.noemoticon.csv', delimiter=',', encoding='ISO-8859-1')\n",
    "df.columns = ['Sentiment','id','date','query','user','text']\n",
    "df.head()"
   ]
  },
  {
   "cell_type": "markdown",
   "metadata": {},
   "source": [
    "We're only interested in 2 text columns:"
   ]
  },
  {
   "cell_type": "code",
   "execution_count": 3,
   "metadata": {},
   "outputs": [],
   "source": [
    "df = df[['Sentiment','text']]"
   ]
  },
  {
   "cell_type": "markdown",
   "metadata": {},
   "source": [
    "Those columns have no missing values:"
   ]
  },
  {
   "cell_type": "code",
   "execution_count": 4,
   "metadata": {},
   "outputs": [
    {
     "data": {
      "text/plain": [
       "0"
      ]
     },
     "execution_count": 4,
     "metadata": {},
     "output_type": "execute_result"
    }
   ],
   "source": [
    "df.isna().sum().sum()"
   ]
  },
  {
   "cell_type": "markdown",
   "metadata": {},
   "source": [
    "After checking the target feature I find it's necessary to rebalance the categories as well as it may be helpful to use 0,1 as category values:"
   ]
  },
  {
   "cell_type": "code",
   "execution_count": 5,
   "metadata": {},
   "outputs": [
    {
     "data": {
      "text/plain": [
       "Sentiment\n",
       "0    799996\n",
       "4    248576\n",
       "Name: count, dtype: int64"
      ]
     },
     "execution_count": 5,
     "metadata": {},
     "output_type": "execute_result"
    }
   ],
   "source": [
    "df.Sentiment.value_counts()"
   ]
  },
  {
   "cell_type": "code",
   "execution_count": 6,
   "metadata": {},
   "outputs": [],
   "source": [
    "df['Sentiment'] = df['Sentiment'].replace({4:1})"
   ]
  },
  {
   "cell_type": "code",
   "execution_count": 7,
   "metadata": {},
   "outputs": [
    {
     "data": {
      "text/plain": [
       "Sentiment\n",
       "0    799996\n",
       "1    248576\n",
       "Name: count, dtype: int64"
      ]
     },
     "execution_count": 7,
     "metadata": {},
     "output_type": "execute_result"
    }
   ],
   "source": [
    "df.Sentiment.value_counts()"
   ]
  },
  {
   "cell_type": "code",
   "execution_count": 8,
   "metadata": {},
   "outputs": [],
   "source": [
    "from sklearn.utils import resample"
   ]
  },
  {
   "cell_type": "code",
   "execution_count": 9,
   "metadata": {},
   "outputs": [],
   "source": [
    "## majority class 0\n",
    "df_majority = df[df['Sentiment']==0]\n",
    "## minority class 1\n",
    "df_minority = df[df['Sentiment']==1]"
   ]
  },
  {
   "cell_type": "code",
   "execution_count": 10,
   "metadata": {},
   "outputs": [],
   "source": [
    "df_majority_downsampled = resample(df_majority, \n",
    "                                 replace=False,   \n",
    "                                 n_samples=len(df_minority),    \n",
    "                                 random_state=1234) "
   ]
  },
  {
   "cell_type": "code",
   "execution_count": 11,
   "metadata": {},
   "outputs": [],
   "source": [
    "df = pd.concat([df_majority_downsampled, df_minority])"
   ]
  },
  {
   "cell_type": "code",
   "execution_count": 12,
   "metadata": {},
   "outputs": [
    {
     "data": {
      "text/plain": [
       "Sentiment\n",
       "0    248576\n",
       "1    248576\n",
       "Name: count, dtype: int64"
      ]
     },
     "execution_count": 12,
     "metadata": {},
     "output_type": "execute_result"
    }
   ],
   "source": [
    "df.Sentiment.value_counts()"
   ]
  },
  {
   "cell_type": "markdown",
   "metadata": {},
   "source": [
    "Starting preprocessing with downloading nltk data:"
   ]
  },
  {
   "cell_type": "code",
   "execution_count": 13,
   "metadata": {},
   "outputs": [
    {
     "name": "stderr",
     "output_type": "stream",
     "text": [
      "[nltk_data] Downloading package stopwords to /home/piotr/nltk_data...\n",
      "[nltk_data]   Package stopwords is already up-to-date!\n",
      "[nltk_data] Downloading package wordnet to /home/piotr/nltk_data...\n",
      "[nltk_data]   Package wordnet is already up-to-date!\n"
     ]
    },
    {
     "data": {
      "text/plain": [
       "True"
      ]
     },
     "execution_count": 13,
     "metadata": {},
     "output_type": "execute_result"
    }
   ],
   "source": [
    "nltk.download('stopwords')\n",
    "nltk.download('wordnet')"
   ]
  },
  {
   "cell_type": "markdown",
   "metadata": {},
   "source": [
    "Stopwords need to be deleted as well as 'quot' which is meaningless and should be treated as stopword as well:"
   ]
  },
  {
   "cell_type": "code",
   "execution_count": 14,
   "metadata": {},
   "outputs": [],
   "source": [
    "words_to_be_removed = list(stopwords.words('english'))+list(punctuation)+[\"quot\"]"
   ]
  },
  {
   "cell_type": "markdown",
   "metadata": {},
   "source": [
    "To clean the datasets we can use following auxilary functions:"
   ]
  },
  {
   "cell_type": "code",
   "execution_count": 15,
   "metadata": {},
   "outputs": [],
   "source": [
    "def clean_data(input_text):\n",
    "    text = re.sub('[^a-zA-Z]', ' ', input_text)\n",
    "    #Convert to lowercase\n",
    "    text = text.lower()\n",
    "    #remove tags\n",
    "    text=re.sub(\"&lt;/?.*?&gt;\",\" &lt;&gt; \",text)\n",
    "    \n",
    "    # remove special characters and digits\n",
    "    text=re.sub(\"(\\\\d|\\\\W)+\",\" \",text)\n",
    "    \n",
    "    ##Convert to list from string\n",
    "    text = text.split()\n",
    "    return text\n",
    "\n",
    "lem = WordNetLemmatizer()\n",
    "def lemmitize_and_remove(input_text):\n",
    "    text = [lem.lemmatize(word) for word in input_text if not word in words_to_be_removed]\n",
    "    text_joined = \" \".join(text)\n",
    "    return text_joined"
   ]
  },
  {
   "cell_type": "code",
   "execution_count": 16,
   "metadata": {},
   "outputs": [],
   "source": [
    "data_cleaned = df.copy()"
   ]
  },
  {
   "cell_type": "code",
   "execution_count": 17,
   "metadata": {},
   "outputs": [],
   "source": [
    "data_cleaned.text = df.text.apply(clean_data).apply(lemmitize_and_remove)"
   ]
  },
  {
   "cell_type": "code",
   "execution_count": 18,
   "metadata": {},
   "outputs": [],
   "source": [
    "data_cleaned = data_cleaned.reindex(np.random.permutation(data_cleaned.index))"
   ]
  },
  {
   "cell_type": "code",
   "execution_count": 19,
   "metadata": {},
   "outputs": [
    {
     "data": {
      "text/html": [
       "<div>\n",
       "<style scoped>\n",
       "    .dataframe tbody tr th:only-of-type {\n",
       "        vertical-align: middle;\n",
       "    }\n",
       "\n",
       "    .dataframe tbody tr th {\n",
       "        vertical-align: top;\n",
       "    }\n",
       "\n",
       "    .dataframe thead th {\n",
       "        text-align: right;\n",
       "    }\n",
       "</style>\n",
       "<table border=\"1\" class=\"dataframe\">\n",
       "  <thead>\n",
       "    <tr style=\"text-align: right;\">\n",
       "      <th></th>\n",
       "      <th>Sentiment</th>\n",
       "      <th>text</th>\n",
       "    </tr>\n",
       "  </thead>\n",
       "  <tbody>\n",
       "    <tr>\n",
       "      <th>385113</th>\n",
       "      <td>0</td>\n",
       "      <td>ouch reinstallaion went really bad know recove...</td>\n",
       "    </tr>\n",
       "    <tr>\n",
       "      <th>955942</th>\n",
       "      <td>1</td>\n",
       "      <td>im recovering friend st bday last nite today i...</td>\n",
       "    </tr>\n",
       "    <tr>\n",
       "      <th>1038673</th>\n",
       "      <td>1</td>\n",
       "      <td>undefeated goodnight sweet dream</td>\n",
       "    </tr>\n",
       "    <tr>\n",
       "      <th>584122</th>\n",
       "      <td>0</td>\n",
       "      <td>nothing dooo</td>\n",
       "    </tr>\n",
       "    <tr>\n",
       "      <th>40699</th>\n",
       "      <td>0</td>\n",
       "      <td>jakicullen angiesheep excited set visit well a...</td>\n",
       "    </tr>\n",
       "  </tbody>\n",
       "</table>\n",
       "</div>"
      ],
      "text/plain": [
       "         Sentiment                                               text\n",
       "385113           0  ouch reinstallaion went really bad know recove...\n",
       "955942           1  im recovering friend st bday last nite today i...\n",
       "1038673          1                   undefeated goodnight sweet dream\n",
       "584122           0                                       nothing dooo\n",
       "40699            0  jakicullen angiesheep excited set visit well a..."
      ]
     },
     "execution_count": 19,
     "metadata": {},
     "output_type": "execute_result"
    }
   ],
   "source": [
    "data_cleaned.head()"
   ]
  },
  {
   "cell_type": "markdown",
   "metadata": {},
   "source": [
    "Tokenize and frequency dictionary:"
   ]
  },
  {
   "cell_type": "code",
   "execution_count": 29,
   "metadata": {},
   "outputs": [
    {
     "name": "stderr",
     "output_type": "stream",
     "text": [
      "[nltk_data] Downloading package punkt to /home/piotr/nltk_data...\n",
      "[nltk_data]   Package punkt is already up-to-date!\n"
     ]
    }
   ],
   "source": [
    "from nltk.tokenize import word_tokenize\n",
    "nltk.download('punkt')\n",
    "\n",
    "words_tokenized = word_tokenize(\" \".join(list(data_cleaned['text'].values)))"
   ]
  },
  {
   "cell_type": "code",
   "execution_count": 30,
   "metadata": {},
   "outputs": [],
   "source": [
    "frequency_distribution = FreqDist(words_tokenized)"
   ]
  },
  {
   "cell_type": "markdown",
   "metadata": {},
   "source": [
    "Below is snippet of 20 most common words from frequency distribution table:"
   ]
  },
  {
   "cell_type": "code",
   "execution_count": 31,
   "metadata": {},
   "outputs": [
    {
     "data": {
      "text/plain": [
       "[('day', 36071),\n",
       " ('good', 29227),\n",
       " ('get', 26548),\n",
       " ('like', 24919),\n",
       " ('go', 24132),\n",
       " ('http', 22302),\n",
       " ('u', 22166),\n",
       " ('work', 21726),\n",
       " ('today', 21584),\n",
       " ('got', 21452),\n",
       " ('love', 20672),\n",
       " ('time', 20560),\n",
       " ('going', 19849),\n",
       " ('one', 17949),\n",
       " ('lol', 17915),\n",
       " ('back', 17537),\n",
       " ('know', 16866),\n",
       " ('com', 16310),\n",
       " ('im', 16117),\n",
       " ('really', 15652)]"
      ]
     },
     "execution_count": 31,
     "metadata": {},
     "output_type": "execute_result"
    }
   ],
   "source": [
    "frequency_distribution.most_common(20)"
   ]
  },
  {
   "cell_type": "markdown",
   "metadata": {},
   "source": [
    "Now we can depict sentiment on cloudwords:"
   ]
  },
  {
   "cell_type": "code",
   "execution_count": 180,
   "metadata": {},
   "outputs": [
    {
     "data": {
      "image/png": "[encoded data removed]",
      "text/plain": [
       "<Figure size 640x480 with 3 Axes>"
      ]
     },
     "metadata": {},
     "output_type": "display_data"
    }
   ],
   "source": [
    "from wordcloud import WordCloud\n",
    "\n",
    "# Create a WordCloud object\n",
    "wordcloud = WordCloud(background_color=\"white\", max_words=1000, contour_width=3, contour_color='steelblue')\n",
    "\n",
    "negative_sent = \",\".join(list(data_cleaned[data_cleaned['Sentiment']==0]['text'].values))\n",
    "positive_sent = \",\".join(list(data_cleaned[data_cleaned['Sentiment']==1]['text'].values))\n",
    "both_sent = \",\".join(set(list(data_cleaned[data_cleaned['Sentiment']==0]['text'].values)).intersection(list(data_cleaned[data_cleaned['Sentiment']==1]['text'].values)))\n",
    "\n",
    "plt.figure()\n",
    "plt.subplot(1, 3, 1).set_title(\"Negative sentiment\")\n",
    "plt.plot()\n",
    "plt.imshow(wordcloud.generate(negative_sent))\n",
    "plt.subplot(1, 3, 2).set_title(\"Positive sentiment\")\n",
    "plt.plot()\n",
    "plt.imshow(wordcloud.generate(positive_sent))\n",
    "plt.subplot(1, 3, 3).set_title(\"Unknown sentiment\")\n",
    "plt.plot()\n",
    "plt.imshow(wordcloud.generate(both_sent))\n",
    "plt.axis(\"off\")\n",
    "plt.show()\n",
    "# Visualize the word cloud\n",
    "#wordcloud.to_image()"
   ]
  },
  {
   "cell_type": "code",
   "execution_count": 181,
   "metadata": {},
   "outputs": [],
   "source": [
    "from sklearn.model_selection import train_test_split\n",
    "from keras.preprocessing.text import Tokenizer\n",
    "from keras.utils.data_utils import pad_sequences\n",
    "from keras.utils import to_categorical\n",
    "from sklearn.preprocessing import LabelEncoder\n",
    "from keras import models\n",
    "from keras import layers\n",
    "from keras import regularizers"
   ]
  },
  {
   "cell_type": "markdown",
   "metadata": {},
   "source": [
    "We split the datasets into training and test datasets:"
   ]
  },
  {
   "cell_type": "code",
   "execution_count": 183,
   "metadata": {},
   "outputs": [
    {
     "name": "stdout",
     "output_type": "stream",
     "text": [
      "# Train data samples: 397721\n",
      "# Test data samples: 99431\n"
     ]
    }
   ],
   "source": [
    "X_train, X_test, y_train, y_test = train_test_split(data_cleaned.text, data_cleaned.Sentiment, test_size=0.2, random_state=137)\n",
    "print('# Train data samples:', X_train.shape[0])\n",
    "print('# Test data samples:', X_test.shape[0])\n",
    "assert X_train.shape[0] == y_train.shape[0]\n",
    "assert X_test.shape[0] == y_test.shape[0]"
   ]
  },
  {
   "cell_type": "code",
   "execution_count": 182,
   "metadata": {},
   "outputs": [],
   "source": [
    "NB_WORDS = 10000  # Parameter indicating the number of words we'll put in the dictionary\n",
    "NB_START_EPOCHS = 20  # Number of epochs we usually start to train with\n",
    "BATCH_SIZE = 512  # Size of the batches used in the mini-batch gradient descent\n",
    "MAX_LEN = 30  # Maximum number of words in a sequence"
   ]
  },
  {
   "cell_type": "markdown",
   "metadata": {},
   "source": [
    "And perform tokenization - filters may not be applicable because data had already been cleared out"
   ]
  },
  {
   "cell_type": "code",
   "execution_count": 184,
   "metadata": {},
   "outputs": [],
   "source": [
    "tk = Tokenizer(num_words=NB_WORDS,\n",
    "               filters='!\"#$%&()*+,-./:;<=>?@[\\\\]^_`{|}~\\t\\n',\n",
    "               lower=True,\n",
    "               split=\" \")\n",
    "tk.fit_on_texts(X_train)\n",
    "\n",
    "X_train_seq = tk.texts_to_sequences(X_train)\n",
    "X_test_seq = tk.texts_to_sequences(X_test)"
   ]
  },
  {
   "cell_type": "markdown",
   "metadata": {},
   "source": [
    "We can tell that size of the sequence varies and we need to make it constant:"
   ]
  },
  {
   "cell_type": "code",
   "execution_count": 68,
   "metadata": {},
   "outputs": [
    {
     "data": {
      "text/plain": [
       "count    397721.000000\n",
       "mean          7.697831\n",
       "std           3.952493\n",
       "min           1.000000\n",
       "25%           5.000000\n",
       "50%           7.000000\n",
       "75%          11.000000\n",
       "max          36.000000\n",
       "Name: text, dtype: float64"
      ]
     },
     "execution_count": 68,
     "metadata": {},
     "output_type": "execute_result"
    }
   ],
   "source": [
    "seq_lengths = X_train.apply(lambda x: len(x.split(' ')))\n",
    "seq_lengths.describe()"
   ]
  },
  {
   "cell_type": "code",
   "execution_count": 69,
   "metadata": {},
   "outputs": [],
   "source": [
    "X_train_seq_trunc = pad_sequences(X_train_seq, maxlen=MAX_LEN)\n",
    "X_test_seq_trunc = pad_sequences(X_test_seq, maxlen=MAX_LEN)"
   ]
  },
  {
   "cell_type": "code",
   "execution_count": 70,
   "metadata": {},
   "outputs": [
    {
     "name": "stdout",
     "output_type": "stream",
     "text": [
      "min length 30 max length 30 \n"
     ]
    }
   ],
   "source": [
    "lengths = np.apply_along_axis(len, 1,X_train_seq_trunc)\n",
    "print(f\"min length {min(lengths)} max length {max(lengths)} \")"
   ]
  },
  {
   "cell_type": "markdown",
   "metadata": {},
   "source": [
    "Then we set labels on target feature and apply one hot encoding:"
   ]
  },
  {
   "cell_type": "code",
   "execution_count": 71,
   "metadata": {},
   "outputs": [],
   "source": [
    "le = LabelEncoder()\n",
    "y_train_le = le.fit_transform(y_train)\n",
    "y_test_le = le.transform(y_test)\n",
    "y_train_oh = to_categorical(y_train_le)\n",
    "y_test_oh = to_categorical(y_test_le)"
   ]
  },
  {
   "cell_type": "markdown",
   "metadata": {},
   "source": [
    "We split the dataset one more time into training and validation subsets:"
   ]
  },
  {
   "cell_type": "code",
   "execution_count": 185,
   "metadata": {},
   "outputs": [
    {
     "name": "stdout",
     "output_type": "stream",
     "text": [
      "Shape of validation set: (39773, 30)\n"
     ]
    }
   ],
   "source": [
    "X_train_emb, X_valid_emb, y_train_emb, y_valid_emb = train_test_split(X_train_seq_trunc, y_train_oh, test_size=0.1, random_state=37)\n",
    "\n",
    "assert X_valid_emb.shape[0] == y_valid_emb.shape[0]\n",
    "assert X_train_emb.shape[0] == y_train_emb.shape[0]\n",
    "\n",
    "print('Shape of validation set:',X_valid_emb.shape)"
   ]
  },
  {
   "cell_type": "markdown",
   "metadata": {},
   "source": [
    "With following auxilary functions for compiling and training the model:"
   ]
  },
  {
   "cell_type": "code",
   "execution_count": 121,
   "metadata": {},
   "outputs": [],
   "source": [
    "def deep_model(model, X_train, y_train, X_valid, y_valid):\n",
    "    '''\n",
    "    Function to train a multi-class model. The number of epochs and\n",
    "    batch_size are set by the constants at the top of the\n",
    "    notebook.\n",
    "\n",
    "    Parameters:\n",
    "        model : model with the chosen architecture\n",
    "        X_train : training features\n",
    "        y_train : training target\n",
    "        X_valid : validation features\n",
    "        Y_valid : validation target\n",
    "    Output:\n",
    "        model training history\n",
    "    '''\n",
    "    model.compile(optimizer='adam'\n",
    "                  , loss='categorical_crossentropy'\n",
    "                  , metrics=['accuracy'])\n",
    "\n",
    "    history = model.fit(X_train\n",
    "                       , y_train\n",
    "                       , epochs=NB_START_EPOCHS\n",
    "                       , batch_size=BATCH_SIZE\n",
    "                       , validation_data=(X_valid, y_valid)\n",
    "                       , verbose=1)\n",
    "    return history\n",
    "\n",
    "\n",
    "def eval_metric(history, metric_name):\n",
    "    '''\n",
    "    Function to evaluate a trained model on a chosen metric.\n",
    "    Training and validation metric are plotted in a\n",
    "    line chart for each epoch.\n",
    "\n",
    "    Parameters:\n",
    "        history : model training history\n",
    "        metric_name : loss or accuracy\n",
    "    Output:\n",
    "        line chart with epochs of x-axis and metric on\n",
    "        y-axis\n",
    "    '''\n",
    "    metric = history.history[metric_name]\n",
    "    val_metric = history.history['val_' + metric_name]\n",
    "\n",
    "    e = range(1, NB_START_EPOCHS + 1)\n",
    "\n",
    "    plt.plot(e, metric, 'bo', label='Train ' + metric_name)\n",
    "    plt.plot(e, val_metric, 'b', label='Validation ' + metric_name)\n",
    "    plt.legend()\n",
    "    plt.show()\n",
    "\n",
    "def test_model(model, X_train, y_train, X_test, y_test, epoch_stop):\n",
    "    '''\n",
    "    Function to test the model on new data after training it\n",
    "    on the full training data with the optimal number of epochs.\n",
    "\n",
    "    Parameters:\n",
    "        model : trained model\n",
    "        X_train : training features\n",
    "        y_train : training target\n",
    "        X_test : test features\n",
    "        y_test : test target\n",
    "        epochs : optimal number of epochs\n",
    "    Output:\n",
    "        test accuracy and test loss\n",
    "    '''\n",
    "    model.fit(X_train\n",
    "              , y_train\n",
    "              , epochs=epoch_stop\n",
    "              , batch_size=BATCH_SIZE\n",
    "              , verbose=0)\n",
    "    results = model.evaluate(X_test, y_test)\n",
    "\n",
    "    return results\n",
    "\n",
    "def remove_stopwords(input_text):\n",
    "    '''\n",
    "    Function to remove English stopwords from a Pandas Series.\n",
    "\n",
    "    Parameters:\n",
    "        input_text : text to clean\n",
    "    Output:\n",
    "        cleaned Pandas Series\n",
    "    '''\n",
    "    stopwords_list = stopwords.words('english')\n",
    "    # Some words which might indicate a certain sentiment are kept via a whitelist\n",
    "    whitelist = [\"n't\", \"not\", \"no\"]\n",
    "    words = input_text.split()\n",
    "    clean_words = [word for word in words if (word not in stopwords_list or word in whitelist) and len(word) > 1]\n",
    "    return \" \".join(clean_words)\n",
    "\n",
    "def remove_mentions(input_text):\n",
    "    '''\n",
    "    Function to remove mentions, preceded by @, in a Pandas Series\n",
    "\n",
    "    Parameters:\n",
    "        input_text : text to clean\n",
    "    Output:\n",
    "        cleaned Pandas Series\n",
    "    '''\n",
    "    return re.sub(r'@\\w+', '', input_text)"
   ]
  },
  {
   "cell_type": "markdown",
   "metadata": {},
   "source": [
    "Let's try to evaluate simple network:"
   ]
  },
  {
   "cell_type": "code",
   "execution_count": 73,
   "metadata": {},
   "outputs": [
    {
     "name": "stdout",
     "output_type": "stream",
     "text": [
      "Model: \"sequential_4\"\n",
      "_________________________________________________________________\n",
      " Layer (type)                Output Shape              Param #   \n"
     ]
    },
    {
     "name": "stdout",
     "output_type": "stream",
     "text": [
      "=================================================================\n",
      " embedding_4 (Embedding)     (None, 30, 8)             80000     \n",
      "                                                                 \n",
      " flatten_4 (Flatten)         (None, 240)               0         \n",
      "                                                                 \n",
      " dense_7 (Dense)             (None, 2)                 482       \n",
      "                                                                 \n",
      "=================================================================\n",
      "Total params: 80,482\n",
      "Trainable params: 80,482\n",
      "Non-trainable params: 0\n",
      "_________________________________________________________________\n"
     ]
    }
   ],
   "source": [
    "emb_model = models.Sequential()\n",
    "emb_model.add(layers.Embedding(NB_WORDS, 8, input_length=MAX_LEN))\n",
    "emb_model.add(layers.Flatten())\n",
    "emb_model.add(layers.Dense(2, activation='softmax'))\n",
    "emb_model.summary()"
   ]
  },
  {
   "cell_type": "code",
   "execution_count": 74,
   "metadata": {},
   "outputs": [
    {
     "name": "stdout",
     "output_type": "stream",
     "text": [
      "Epoch 1/20\n",
      "700/700 [==============================] - 1s 1ms/step - loss: 0.5706 - accuracy: 0.7106 - val_loss: 0.4973 - val_accuracy: 0.7588\n",
      "Epoch 2/20\n",
      "700/700 [==============================] - 1s 1ms/step - loss: 0.4837 - accuracy: 0.7700 - val_loss: 0.4828 - val_accuracy: 0.7675\n",
      "Epoch 3/20\n",
      "700/700 [==============================] - 1s 1ms/step - loss: 0.4712 - accuracy: 0.7777 - val_loss: 0.4792 - val_accuracy: 0.7706\n",
      "Epoch 4/20\n",
      "700/700 [==============================] - 1s 1ms/step - loss: 0.4645 - accuracy: 0.7823 - val_loss: 0.4785 - val_accuracy: 0.7696\n",
      "Epoch 5/20\n",
      "700/700 [==============================] - 1s 1ms/step - loss: 0.4593 - accuracy: 0.7854 - val_loss: 0.4763 - val_accuracy: 0.7726\n",
      "Epoch 6/20\n",
      "700/700 [==============================] - 1s 1ms/step - loss: 0.4547 - accuracy: 0.7884 - val_loss: 0.4785 - val_accuracy: 0.7723\n",
      "Epoch 7/20\n",
      "700/700 [==============================] - 1s 1ms/step - loss: 0.4504 - accuracy: 0.7916 - val_loss: 0.4778 - val_accuracy: 0.7722\n",
      "Epoch 8/20\n",
      "700/700 [==============================] - 1s 1ms/step - loss: 0.4460 - accuracy: 0.7942 - val_loss: 0.4796 - val_accuracy: 0.7709\n",
      "Epoch 9/20\n",
      "700/700 [==============================] - 1s 1ms/step - loss: 0.4416 - accuracy: 0.7969 - val_loss: 0.4808 - val_accuracy: 0.7714\n",
      "Epoch 10/20\n",
      "700/700 [==============================] - 1s 1ms/step - loss: 0.4372 - accuracy: 0.7996 - val_loss: 0.4834 - val_accuracy: 0.7705\n",
      "Epoch 11/20\n",
      "700/700 [==============================] - 1s 1ms/step - loss: 0.4328 - accuracy: 0.8024 - val_loss: 0.4863 - val_accuracy: 0.7697\n",
      "Epoch 12/20\n",
      "700/700 [==============================] - 1s 1ms/step - loss: 0.4285 - accuracy: 0.8054 - val_loss: 0.4884 - val_accuracy: 0.7682\n",
      "Epoch 13/20\n",
      "700/700 [==============================] - 1s 1ms/step - loss: 0.4243 - accuracy: 0.8079 - val_loss: 0.4916 - val_accuracy: 0.7675\n",
      "Epoch 14/20\n",
      "700/700 [==============================] - 1s 1ms/step - loss: 0.4203 - accuracy: 0.8104 - val_loss: 0.4948 - val_accuracy: 0.7667\n",
      "Epoch 15/20\n",
      "700/700 [==============================] - 1s 1ms/step - loss: 0.4165 - accuracy: 0.8125 - val_loss: 0.4980 - val_accuracy: 0.7658\n",
      "Epoch 16/20\n",
      "700/700 [==============================] - 1s 1ms/step - loss: 0.4130 - accuracy: 0.8147 - val_loss: 0.5021 - val_accuracy: 0.7636\n",
      "Epoch 17/20\n",
      "700/700 [==============================] - 1s 1ms/step - loss: 0.4097 - accuracy: 0.8168 - val_loss: 0.5057 - val_accuracy: 0.7632\n",
      "Epoch 18/20\n",
      "700/700 [==============================] - 1s 1ms/step - loss: 0.4067 - accuracy: 0.8186 - val_loss: 0.5095 - val_accuracy: 0.7615\n",
      "Epoch 19/20\n",
      "700/700 [==============================] - 1s 1ms/step - loss: 0.4038 - accuracy: 0.8203 - val_loss: 0.5128 - val_accuracy: 0.7611\n",
      "Epoch 20/20\n",
      "700/700 [==============================] - 1s 1ms/step - loss: 0.4012 - accuracy: 0.8216 - val_loss: 0.5166 - val_accuracy: 0.7595\n"
     ]
    }
   ],
   "source": [
    "emb_history = deep_model(emb_model, X_train_emb, y_train_emb, X_valid_emb, y_valid_emb)"
   ]
  },
  {
   "cell_type": "code",
   "execution_count": 75,
   "metadata": {},
   "outputs": [
    {
     "data": {
      "image/png": "[encoded data removed]",
      "text/plain": [
       "<Figure size 640x480 with 1 Axes>"
      ]
     },
     "metadata": {},
     "output_type": "display_data"
    }
   ],
   "source": [
    "eval_metric(emb_history, 'accuracy')"
   ]
  },
  {
   "cell_type": "code",
   "execution_count": 76,
   "metadata": {},
   "outputs": [
    {
     "data": {
      "image/png": "[encoded data removed]",
      "text/plain": [
       "<Figure size 640x480 with 1 Axes>"
      ]
     },
     "metadata": {},
     "output_type": "display_data"
    }
   ],
   "source": [
    "eval_metric(emb_history, 'loss')"
   ]
  },
  {
   "cell_type": "markdown",
   "metadata": {},
   "source": [
    "As we can see, result is not the best one, indicating some overfitting, what's worse, the results got worse as the epochs progressed. After several attempts this model yielded best results:"
   ]
  },
  {
   "cell_type": "code",
   "execution_count": 113,
   "metadata": {},
   "outputs": [
    {
     "name": "stdout",
     "output_type": "stream",
     "text": [
      "Model: \"sequential_20\"\n",
      "_________________________________________________________________\n",
      " Layer (type)                Output Shape              Param #   \n",
      "=================================================================\n",
      " embedding_20 (Embedding)    (None, 30, 8)             80000     \n",
      "                                                                 \n",
      " batch_normalization_6 (Batc  (None, 30, 8)            32        \n",
      " hNormalization)                                                 \n",
      "                                                                 \n",
      " spatial_dropout1d_3 (Spatia  (None, 30, 8)            0         \n",
      " lDropout1D)                                                     \n",
      "                                                                 \n",
      " lstm_16 (LSTM)              (None, 30, 32)            5248      \n",
      "                                                                 \n",
      " dropout_13 (Dropout)        (None, 30, 32)            0         \n",
      "                                                                 \n",
      " flatten_20 (Flatten)        (None, 960)               0         \n",
      "                                                                 \n",
      " dense_24 (Dense)            (None, 2)                 1922      \n",
      "                                                                 \n",
      "=================================================================\n",
      "Total params: 87,202\n",
      "Trainable params: 87,186\n",
      "Non-trainable params: 16\n",
      "_________________________________________________________________\n"
     ]
    }
   ],
   "source": [
    "emb_model_7 = models.Sequential()\n",
    "emb_model_7.add(layers.Embedding(NB_WORDS, 8, input_length=MAX_LEN))\n",
    "emb_model_7.add(layers.BatchNormalization())\n",
    "emb_model_7.add(layers.SpatialDropout1D(0.5))\n",
    "emb_model_7.add(layers.LSTM(32,dropout=0.5, recurrent_dropout=0.5,return_sequences=True))\n",
    "emb_model_7.add(layers.Dropout(0.5))\n",
    "\n",
    "#emb_model_4.add(layers.Dense(32, activation='relu'))\n",
    "emb_model_7.add(layers.Flatten())\n",
    "emb_model_7.add(layers.Dense(2, activation='softmax'))\n",
    "emb_model_7.summary()"
   ]
  },
  {
   "cell_type": "code",
   "execution_count": 114,
   "metadata": {},
   "outputs": [
    {
     "name": "stdout",
     "output_type": "stream",
     "text": [
      "Epoch 1/20\n",
      "700/700 [==============================] - 16s 21ms/step - loss: 0.5918 - accuracy: 0.6758 - val_loss: 0.4994 - val_accuracy: 0.7598\n",
      "Epoch 2/20\n",
      "700/700 [==============================] - 15s 21ms/step - loss: 0.5182 - accuracy: 0.7460 - val_loss: 0.4990 - val_accuracy: 0.7599\n",
      "Epoch 3/20\n",
      "700/700 [==============================] - 15s 21ms/step - loss: 0.5041 - accuracy: 0.7558 - val_loss: 0.4813 - val_accuracy: 0.7696\n",
      "Epoch 4/20\n",
      "700/700 [==============================] - 15s 21ms/step - loss: 0.4972 - accuracy: 0.7614 - val_loss: 0.4772 - val_accuracy: 0.7712\n",
      "Epoch 5/20\n",
      "700/700 [==============================] - 15s 21ms/step - loss: 0.4941 - accuracy: 0.7627 - val_loss: 0.4727 - val_accuracy: 0.7717\n",
      "Epoch 6/20\n",
      "700/700 [==============================] - 15s 21ms/step - loss: 0.4894 - accuracy: 0.7654 - val_loss: 0.4811 - val_accuracy: 0.7719\n",
      "Epoch 7/20\n",
      "700/700 [==============================] - 15s 21ms/step - loss: 0.4883 - accuracy: 0.7664 - val_loss: 0.4721 - val_accuracy: 0.7743\n",
      "Epoch 8/20\n",
      "700/700 [==============================] - 15s 21ms/step - loss: 0.4871 - accuracy: 0.7670 - val_loss: 0.4770 - val_accuracy: 0.7715\n",
      "Epoch 9/20\n",
      "700/700 [==============================] - 15s 21ms/step - loss: 0.4857 - accuracy: 0.7678 - val_loss: 0.4710 - val_accuracy: 0.7742\n",
      "Epoch 10/20\n",
      "700/700 [==============================] - 15s 21ms/step - loss: 0.4848 - accuracy: 0.7685 - val_loss: 0.4803 - val_accuracy: 0.7707\n",
      "Epoch 11/20\n",
      "700/700 [==============================] - 15s 21ms/step - loss: 0.4834 - accuracy: 0.7698 - val_loss: 0.4787 - val_accuracy: 0.7718\n",
      "Epoch 12/20\n",
      "700/700 [==============================] - 15s 21ms/step - loss: 0.4821 - accuracy: 0.7706 - val_loss: 0.4731 - val_accuracy: 0.7733\n",
      "Epoch 13/20\n",
      "700/700 [==============================] - 15s 21ms/step - loss: 0.4823 - accuracy: 0.7701 - val_loss: 0.4698 - val_accuracy: 0.7743\n",
      "Epoch 14/20\n",
      "700/700 [==============================] - 15s 21ms/step - loss: 0.4815 - accuracy: 0.7704 - val_loss: 0.4782 - val_accuracy: 0.7702\n",
      "Epoch 15/20\n",
      "700/700 [==============================] - 15s 21ms/step - loss: 0.4809 - accuracy: 0.7712 - val_loss: 0.4711 - val_accuracy: 0.7736\n",
      "Epoch 16/20\n",
      "700/700 [==============================] - 15s 21ms/step - loss: 0.4806 - accuracy: 0.7713 - val_loss: 0.4703 - val_accuracy: 0.7756\n",
      "Epoch 17/20\n",
      "700/700 [==============================] - 15s 21ms/step - loss: 0.4795 - accuracy: 0.7722 - val_loss: 0.4699 - val_accuracy: 0.7744\n",
      "Epoch 18/20\n",
      "700/700 [==============================] - 15s 21ms/step - loss: 0.4795 - accuracy: 0.7721 - val_loss: 0.4701 - val_accuracy: 0.7748\n",
      "Epoch 19/20\n",
      "700/700 [==============================] - 15s 21ms/step - loss: 0.4792 - accuracy: 0.7718 - val_loss: 0.4693 - val_accuracy: 0.7733\n",
      "Epoch 20/20\n",
      "700/700 [==============================] - 15s 21ms/step - loss: 0.4800 - accuracy: 0.7716 - val_loss: 0.4750 - val_accuracy: 0.7752\n"
     ]
    }
   ],
   "source": [
    "emb_history_7 = deep_model(emb_model_7, X_train_emb, y_train_emb, X_valid_emb, y_valid_emb)"
   ]
  },
  {
   "cell_type": "code",
   "execution_count": 115,
   "metadata": {},
   "outputs": [
    {
     "data": {
      "image/png": "[encoded data removed]",
      "text/plain": [
       "<Figure size 640x480 with 1 Axes>"
      ]
     },
     "metadata": {},
     "output_type": "display_data"
    }
   ],
   "source": [
    "eval_metric(emb_history_7, 'accuracy')"
   ]
  },
  {
   "cell_type": "code",
   "execution_count": 116,
   "metadata": {},
   "outputs": [
    {
     "data": {
      "image/png": "[encoded data removed]",
      "text/plain": [
       "<Figure size 640x480 with 1 Axes>"
      ]
     },
     "metadata": {},
     "output_type": "display_data"
    }
   ],
   "source": [
    "eval_metric(emb_history_7, 'loss')"
   ]
  },
  {
   "cell_type": "markdown",
   "metadata": {},
   "source": [
    "We can see accuracy levels are very similar to the first model, but we managed to avoid overfitting and achieved stable (not growing) learning curve. \n",
    "Model accuracy is 77.6%, similar to Kaggle results achieved with different algorithms."
   ]
  },
  {
   "cell_type": "code",
   "execution_count": 118,
   "metadata": {},
   "outputs": [
    {
     "name": "stdout",
     "output_type": "stream",
     "text": [
      "3108/3108 [==============================] - 10s 3ms/step - loss: 0.4754 - accuracy: 0.7755\n"
     ]
    },
    {
     "data": {
      "text/plain": [
       "[0.47543156147003174, 0.7755327820777893]"
      ]
     },
     "execution_count": 118,
     "metadata": {},
     "output_type": "execute_result"
    }
   ],
   "source": [
    "emb_model_7.evaluate(X_test_seq_trunc,y_test_oh)"
   ]
  },
  {
   "cell_type": "code",
   "execution_count": null,
   "metadata": {},
   "outputs": [],
   "source": [
    "!mkdir -p saved_model\n",
    "emb_model_7.save('saved_model/final')"
   ]
  }
 ],
 "metadata": {
  "kernelspec": {
   "display_name": "Python 3",
   "language": "python",
   "name": "python3"
  },
  "language_info": {
   "codemirror_mode": {
    "name": "ipython",
    "version": 3
   },
   "file_extension": ".py",
   "mimetype": "text/x-python",
   "name": "python",
   "nbconvert_exporter": "python",
   "pygments_lexer": "ipython3",
   "version": "3.10.12"
  }
 },
 "nbformat": 4,
 "nbformat_minor": 2
}
